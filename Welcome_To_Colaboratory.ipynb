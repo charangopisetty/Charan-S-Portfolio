{
  "cells": [
    {
      "cell_type": "markdown",
      "metadata": {
        "id": "view-in-github",
        "colab_type": "text"
      },
      "source": [
        "<a href=\"https://colab.research.google.com/github/charangopisetty/Charan-S-Portfolio/blob/main/Welcome_To_Colaboratory.ipynb\" target=\"_parent\"><img src=\"https://colab.research.google.com/assets/colab-badge.svg\" alt=\"Open In Colab\"/></a>"
      ]
    },
    {
      "cell_type": "code",
      "source": [
        "pip install face_recognition"
      ],
      "metadata": {
        "id": "FqUqJ4gIvW-m"
      },
      "execution_count": null,
      "outputs": []
    },
    {
      "cell_type": "code",
      "source": [
        "pip install cv2"
      ],
      "metadata": {
        "id": "f6MDnPP4nHAJ",
        "outputId": "08a4f3f3-f5c2-41f4-c2b6-43c76f956d29",
        "colab": {
          "base_uri": "https://localhost:8080/"
        }
      },
      "execution_count": 62,
      "outputs": [
        {
          "metadata": {
            "tags": null
          },
          "name": "stdout",
          "output_type": "stream",
          "text": [
            "Looking in indexes: https://pypi.org/simple, https://us-python.pkg.dev/colab-wheels/public/simple/\n",
            "\u001b[31mERROR: Could not find a version that satisfies the requirement cv2 (from versions: none)\u001b[0m\u001b[31m\n",
            "\u001b[0m\u001b[31mERROR: No matching distribution found for cv2\u001b[0m\u001b[31m\n",
            "\u001b[0m"
          ]
        }
      ]
    },
    {
      "cell_type": "code",
      "source": [
        "import cv2\n",
        "import face_recognition\n",
        "\n",
        "# Initialize the webcam\n",
        "cap = cv2.VideoCapture(0)\n",
        "\n",
        "def authenticate_user():\n",
        "    # Capture an image from the webcam\n",
        "    ret, frame = cap.read()\n",
        "\n",
        "    # Save the image to a file\n",
        "    cv2.imwrite(\"webcam_image.jpg\", frame)\n",
        "\n",
        "    # Load the image of the user to be authenticated\n",
        "    user_image = face_recognition.load_image_file(\"webcam_image.jpg\")\n",
        "    user_face_encoding = face_recognition.face_encodings(user_image)[0]\n",
        "\n",
        "    # Load the image of the known user\n",
        "    known_image = face_recognition.load_image_file(\"known_user.jpg\")\n",
        "    known_face_encoding = face_recognition.face_encodings(known_image)[0]\n",
        "\n",
        "    # Compare the face encodings\n",
        "    results = face_recognition.compare_faces([known_face_encoding], user_face_encoding)\n",
        "\n",
        "    if results[0]:\n",
        "        return True\n",
        "    else:\n",
        "        return False\n"
      ],
      "metadata": {
        "id": "j127CXZcw6mN"
      },
      "execution_count": null,
      "outputs": []
    }
  ],
  "metadata": {
    "colab": {
      "name": "Welcome To Colaboratory",
      "toc_visible": true,
      "provenance": [],
      "include_colab_link": true
    },
    "kernelspec": {
      "display_name": "Python 3",
      "name": "python3"
    }
  },
  "nbformat": 4,
  "nbformat_minor": 0
}